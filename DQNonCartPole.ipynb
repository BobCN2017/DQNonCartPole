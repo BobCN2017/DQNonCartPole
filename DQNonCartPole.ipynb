{
 "cells": [
  {
   "cell_type": "code",
   "execution_count": 68,
   "metadata": {
    "collapsed": true
   },
   "outputs": [],
   "source": [
    "import gym\n",
    "import tensorflow as tf \n",
    "import numpy as np \n",
    "import random\n",
    "from collections import deque"
   ]
  },
  {
   "cell_type": "code",
   "execution_count": 69,
   "metadata": {
    "collapsed": true
   },
   "outputs": [],
   "source": [
    "GAMMA = 0.9 # discount factor for target Q\n",
    "INITIAL_EPSILON = 0.5 # starting value of epsilon\n",
    "FINAL_EPSILON = 0.01 # final value of epsilon\n",
    "REPLAY_SIZE = 10000 # experience replay buffer size\n",
    "BATCH_SIZE = 32 # size of minibatch\n",
    "H=20"
   ]
  },
  {
   "cell_type": "code",
   "execution_count": 70,
   "metadata": {
    "collapsed": true
   },
   "outputs": [],
   "source": [
    "class DQN():\n",
    "    def __init__(self,env):\n",
    "        self.replay_buffer=deque()\n",
    "        \n",
    "        self.epsilon=INITIAL_EPSILON\n",
    "        self.action_dim=env.action_space.n\n",
    "        self.state_dim=env.observation_space.shape[0]\n",
    "        self.time_step=0\n",
    "        \n",
    "        self.creat_Q_network()\n",
    "        self.creat_training_method()\n",
    "        \n",
    "        self.session=tf.InteractiveSession()\n",
    "        self.session.run(tf.global_variables_initializer())\n",
    "        \n",
    "    def creat_Q_network(self):\n",
    "        w1=self.weight_variable([self.state_dim,H])\n",
    "        b1=self.bias_variable([H])\n",
    "        \n",
    "        w2=self.weight_variable([H,self.action_dim])\n",
    "        b2=self.bias_variable([self.action_dim])\n",
    "        \n",
    "        self.state_input=tf.placeholder('float',[None,self.state_dim])\n",
    "        h1=tf.nn.relu(tf.matmul(self.state_input,w1)+b1)\n",
    "        self.Q_value=tf.matmul(h1,w2)+b2\n",
    "    \n",
    "    def creat_training_method(self):\n",
    "        self.action_input=tf.placeholder(\"float\",[None,self.action_dim])\n",
    "        self.input_y=tf.placeholder(\"float\",[None])\n",
    "        Q_action=tf.reduce_sum(tf.multiply(self.Q_value,self.action_input),reduction_indices=1)\n",
    "        self.cost=tf.reduce_mean(tf.square(self.input_y - Q_action))\n",
    "        self.optimizer=tf.train.AdamOptimizer(0.001).minimize(self.cost)\n",
    "        \n",
    "    def perceive(self,state,action,reward,next_state,done):\n",
    "        one_hot_action=np.zeros(self.action_dim)\n",
    "        one_hot_action[action]=1\n",
    "        self.replay_buffer.append((state,one_hot_action,reward,next_state,done))\n",
    "        \n",
    "        if(len(self.replay_buffer) > REPLAY_SIZE):\n",
    "            self.replay_buffer.popleft()\n",
    "            \n",
    "        if(len(self.replay_buffer) > BATCH_SIZE):\n",
    "            self.train_Q_network()\n",
    "            \n",
    "    def train_Q_network(self):\n",
    "        self.time_step+=1\n",
    "        miniBatch=random.sample(self.replay_buffer,BATCH_SIZE)\n",
    "        state_batch=[date[0] for date in miniBatch]\n",
    "        action_batch=[date[1] for date in miniBatch]\n",
    "        reward_batch=[date[2] for date in miniBatch]\n",
    "        next_action_batch=[date[3] for date in miniBatch]\n",
    "        done_batch=[date[4] for date in miniBatch]\n",
    "        \n",
    "        #计算y\n",
    "        y=[]\n",
    "        Q_next_action_value=self.Q_value.eval(feed_dict={self.state_input:next_action_batch})\n",
    "        for i in range(BATCH_SIZE):\n",
    "            done=done_batch[i]\n",
    "            if done:\n",
    "                y.append(reward_batch[i])\n",
    "            else:\n",
    "                y.append(reward_batch[i]+GAMMA*np.max(Q_next_action_value[i]))\n",
    "                \n",
    "        self.optimizer.run(feed_dict={self.state_input:state_batch,\n",
    "                                     self.action_input:action_batch,\n",
    "                                     self.input_y:y})\n",
    "        \n",
    "    def edeepy_action(self,state):\n",
    "        Q_value=self.Q_value.eval(feed_dict={self.state_input:[state]})[0]\n",
    "#         self.epsilon -= (INITIAL_EPSILON - FINAL_EPSILON)/10000\n",
    "        if random.random() < self.epsilon:\n",
    "            return random.randint(0,self.action_dim-1)\n",
    "        else:\n",
    "            return np.argmax(Q_value)    \n",
    "               \n",
    "    def action(self,state):\n",
    "        Q_value=self.Q_value.eval(feed_dict={self.state_input:[state]})[0]\n",
    "        return np.argmax(Q_value)        \n",
    "    \n",
    "    def weight_variable(self,shape):\n",
    "        return tf.Variable(tf.truncated_normal(shape))\n",
    "    \n",
    "    def bias_variable(self,shape):\n",
    "        return tf.Variable(tf.constant(0.01,shape=shape))"
   ]
  },
  {
   "cell_type": "code",
   "execution_count": 71,
   "metadata": {
    "collapsed": true
   },
   "outputs": [],
   "source": [
    "ENV_NAME = 'CartPole-v0'\n",
    "EPISODE = 10000 # Episode limitation\n",
    "STEP = 201 # Step limitation in an episode\n",
    "TEST_SIZE = 100 # The number of experiment test every 100 episode"
   ]
  },
  {
   "cell_type": "code",
   "execution_count": 72,
   "metadata": {
    "collapsed": true
   },
   "outputs": [],
   "source": [
    "def main():\n",
    "    env=gym.make(ENV_NAME)\n",
    "    agent=DQN(env)\n",
    "    \n",
    "    for episode in range(EPISODE):\n",
    "        state=env.reset()\n",
    "        \n",
    "        for step in range(STEP):\n",
    "            action=agent.edeepy_action(state)\n",
    "            \n",
    "            next_state,reward,done,infor=env.step(action)\n",
    "            \n",
    "            agent.perceive(state,action,reward,next_state,done)\n",
    "            \n",
    "            state=next_state\n",
    "            \n",
    "            if done:\n",
    "                break\n",
    "        \n",
    "        if episode % 100 ==0 and episode!=0:\n",
    "            \n",
    "            reward_sum=0\n",
    "            for test in range(TEST_SIZE):\n",
    "                state=env.reset()\n",
    "                \n",
    "                for step in range(STEP):\n",
    "#                     env.render()\n",
    "                    action=agent.action(state)\n",
    "                    state,reward,done,infor=env.step(action)                    \n",
    "                    reward_sum+=reward\n",
    "                    \n",
    "                    if done:\n",
    "                        break\n",
    "            print('Average reward for episode %d : %f' %  \n",
    "                     (episode,reward_sum/TEST_SIZE))  \n",
    "            \n",
    "            if reward_sum/TEST_SIZE > 195:\n",
    "                    print(\"Task solved in\",episode,'episodes!')\n",
    "                    break            \n"
   ]
  },
  {
   "cell_type": "code",
   "execution_count": 73,
   "metadata": {
    "collapsed": false
   },
   "outputs": [
    {
     "name": "stderr",
     "output_type": "stream",
     "text": [
      "[2017-06-08 15:21:46,509] Making new env: CartPole-v0\n"
     ]
    },
    {
     "name": "stdout",
     "output_type": "stream",
     "text": [
      "Average reward for episode 100 : 26.690000\n",
      "Average reward for episode 200 : 128.770000\n",
      "Average reward for episode 300 : 200.000000\n",
      "Task solved in 300 episodes!\n"
     ]
    }
   ],
   "source": [
    "if __name__ == '__main__':\n",
    "    main()"
   ]
  },
  {
   "cell_type": "code",
   "execution_count": null,
   "metadata": {
    "collapsed": false
   },
   "outputs": [],
   "source": []
  },
  {
   "cell_type": "code",
   "execution_count": null,
   "metadata": {
    "collapsed": true
   },
   "outputs": [],
   "source": []
  }
 ],
 "metadata": {
  "anaconda-cloud": {},
  "kernelspec": {
   "display_name": "Python [conda root]",
   "language": "python",
   "name": "conda-root-py"
  },
  "language_info": {
   "codemirror_mode": {
    "name": "ipython",
    "version": 3
   },
   "file_extension": ".py",
   "mimetype": "text/x-python",
   "name": "python",
   "nbconvert_exporter": "python",
   "pygments_lexer": "ipython3",
   "version": "3.5.2"
  }
 },
 "nbformat": 4,
 "nbformat_minor": 1
}
